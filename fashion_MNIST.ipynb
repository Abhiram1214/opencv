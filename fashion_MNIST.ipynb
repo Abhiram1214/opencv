{
 "cells": [
  {
   "cell_type": "code",
   "execution_count": 1,
   "metadata": {},
   "outputs": [
    {
     "name": "stderr",
     "output_type": "stream",
     "text": [
      "Using TensorFlow backend.\n"
     ]
    }
   ],
   "source": [
    "from keras.datasets import fashion_mnist\n",
    "\n",
    "from keras.models import Sequential\n",
    "from keras.layers import Dense, Flatten, Conv2D, MaxPooling2D\n",
    "\n",
    "from sklearn.metrics import classification_report\n",
    "from sklearn.model_selection import train_test_split\n",
    "\n",
    "import matplotlib.pyplot as plt\n",
    "%matplotlib inline"
   ]
  },
  {
   "cell_type": "code",
   "execution_count": 2,
   "metadata": {},
   "outputs": [],
   "source": [
    "(x_train,y_train), (x_test,y_test) = fashion_mnist.load_data()"
   ]
  },
  {
   "cell_type": "code",
   "execution_count": 6,
   "metadata": {},
   "outputs": [
    {
     "data": {
      "text/plain": [
       "<matplotlib.image.AxesImage at 0x272ad7b0608>"
      ]
     },
     "execution_count": 6,
     "metadata": {},
     "output_type": "execute_result"
    },
    {
     "data": {
      "image/png": "[encoded data removed]",
      "text/plain": [
       "<Figure size 432x288 with 1 Axes>"
      ]
     },
     "metadata": {
      "needs_background": "light"
     },
     "output_type": "display_data"
    }
   ],
   "source": [
    "plt.imshow(x_train[8])"
   ]
  },
  {
   "cell_type": "code",
   "execution_count": 12,
   "metadata": {},
   "outputs": [
    {
     "data": {
      "text/plain": [
       "{0, 1, 2, 3, 4, 5, 6, 7, 8, 9}"
      ]
     },
     "execution_count": 12,
     "metadata": {},
     "output_type": "execute_result"
    }
   ],
   "source": [
    "set(y_test)"
   ]
  },
  {
   "cell_type": "code",
   "execution_count": 33,
   "metadata": {},
   "outputs": [
    {
     "data": {
      "text/plain": [
       "((60000, 28, 28, 1), (60000,), (10000, 28, 28))"
      ]
     },
     "execution_count": 33,
     "metadata": {},
     "output_type": "execute_result"
    }
   ],
   "source": [
    "x_train.shape, y_train.shape, x_test.shape"
   ]
  },
  {
   "cell_type": "code",
   "execution_count": 4,
   "metadata": {},
   "outputs": [],
   "source": [
    "x_train = x_train.reshape(60000,28,28,1)\n",
    "x_test = x_test.reshape(10000,28,28,1)"
   ]
  },
  {
   "cell_type": "code",
   "execution_count": 5,
   "metadata": {},
   "outputs": [],
   "source": [
    "x_train = x_train / x_train.max()\n",
    "x_test = x_test /x_test.max()"
   ]
  },
  {
   "cell_type": "code",
   "execution_count": 6,
   "metadata": {},
   "outputs": [],
   "source": [
    "from keras.utils import to_categorical\n",
    "y_cat_train = to_categorical(y_train, 10)\n",
    "y_cat_test = to_categorical(y_test, 10)"
   ]
  },
  {
   "cell_type": "code",
   "execution_count": 40,
   "metadata": {},
   "outputs": [],
   "source": [
    "model = Sequential()\n",
    "\n",
    "model.add(Conv2D(filters=(64), kernel_size=(4,4), input_shape=(28,28,1), activation='relu'))\n",
    "model.add(MaxPooling2D(pool_size=(2,2)))\n",
    "\n",
    "model.add(Conv2D(filters=(64), kernel_size=(4,4), input_shape=(28,28,1), activation='relu'))\n",
    "model.add(MaxPooling2D(pool_size=(2,2)))\n",
    "\n",
    "model.add(Flatten())\n",
    "\n",
    "model.add(Dense(128, activation='relu'))\n",
    "\n",
    "model.add(Dense(10, activation='softmax'))\n",
    "\n",
    "model.compile(loss='binary_crossentropy',\n",
    "             optimizer='rmsprop',\n",
    "             metrics=['accuracy'])"
   ]
  },
  {
   "cell_type": "code",
   "execution_count": 41,
   "metadata": {},
   "outputs": [
    {
     "name": "stdout",
     "output_type": "stream",
     "text": [
      "Model: \"sequential_8\"\n",
      "_________________________________________________________________\n",
      "Layer (type)                 Output Shape              Param #   \n",
      "=================================================================\n",
      "conv2d_14 (Conv2D)           (None, 25, 25, 64)        1088      \n",
      "_________________________________________________________________\n",
      "max_pooling2d_13 (MaxPooling (None, 12, 12, 64)        0         \n",
      "_________________________________________________________________\n",
      "conv2d_15 (Conv2D)           (None, 9, 9, 64)          65600     \n",
      "_________________________________________________________________\n",
      "max_pooling2d_14 (MaxPooling (None, 4, 4, 64)          0         \n",
      "_________________________________________________________________\n",
      "flatten_3 (Flatten)          (None, 1024)              0         \n",
      "_________________________________________________________________\n",
      "dense_4 (Dense)              (None, 128)               131200    \n",
      "_________________________________________________________________\n",
      "dense_5 (Dense)              (None, 10)                1290      \n",
      "=================================================================\n",
      "Total params: 199,178\n",
      "Trainable params: 199,178\n",
      "Non-trainable params: 0\n",
      "_________________________________________________________________\n"
     ]
    }
   ],
   "source": [
    "model.summary()"
   ]
  },
  {
   "cell_type": "code",
   "execution_count": 43,
   "metadata": {},
   "outputs": [
    {
     "name": "stdout",
     "output_type": "stream",
     "text": [
      "Epoch 1/50\n",
      "60000/60000 [==============================] - 8s 126us/step - loss: 0.0796 - accuracy: 0.9682\n",
      "Epoch 2/50\n",
      "60000/60000 [==============================] - 6s 100us/step - loss: 0.0555 - accuracy: 0.9781\n",
      "Epoch 3/50\n",
      "60000/60000 [==============================] - 6s 99us/step - loss: 0.0497 - accuracy: 0.9802\n",
      "Epoch 4/50\n",
      "60000/60000 [==============================] - 6s 99us/step - loss: 0.0464 - accuracy: 0.9820\n",
      "Epoch 5/50\n",
      "60000/60000 [==============================] - 6s 100us/step - loss: 0.0439 - accuracy: 0.9829\n",
      "Epoch 6/50\n",
      "60000/60000 [==============================] - 6s 100us/step - loss: 0.0418 - accuracy: 0.9839\n",
      "Epoch 7/50\n",
      "60000/60000 [==============================] - 6s 100us/step - loss: 0.0408 - accuracy: 0.9845\n",
      "Epoch 8/50\n",
      "60000/60000 [==============================] - 6s 99us/step - loss: 0.0399 - accuracy: 0.9849\n",
      "Epoch 9/50\n",
      "60000/60000 [==============================] - 6s 98us/step - loss: 0.0396 - accuracy: 0.9851\n",
      "Epoch 10/50\n",
      "60000/60000 [==============================] - 6s 98us/step - loss: 0.0394 - accuracy: 0.9851\n",
      "Epoch 11/50\n",
      "60000/60000 [==============================] - 6s 98us/step - loss: 0.0385 - accuracy: 0.9855\n",
      "Epoch 12/50\n",
      "60000/60000 [==============================] - 6s 98us/step - loss: 0.0388 - accuracy: 0.9857\n",
      "Epoch 13/50\n",
      "60000/60000 [==============================] - 6s 98us/step - loss: 0.0389 - accuracy: 0.9856\n",
      "Epoch 14/50\n",
      "60000/60000 [==============================] - 6s 99us/step - loss: 0.0390 - accuracy: 0.9856\n",
      "Epoch 15/50\n",
      "60000/60000 [==============================] - 6s 99us/step - loss: 0.0385 - accuracy: 0.9859\n",
      "Epoch 16/50\n",
      "60000/60000 [==============================] - 6s 99us/step - loss: 0.0388 - accuracy: 0.9858\n",
      "Epoch 17/50\n",
      "60000/60000 [==============================] - 6s 99us/step - loss: 0.0391 - accuracy: 0.9857\n",
      "Epoch 18/50\n",
      "60000/60000 [==============================] - 6s 100us/step - loss: 0.0388 - accuracy: 0.9859\n",
      "Epoch 19/50\n",
      "60000/60000 [==============================] - 6s 100us/step - loss: 0.0388 - accuracy: 0.9858\n",
      "Epoch 20/50\n",
      "60000/60000 [==============================] - 6s 100us/step - loss: 0.0386 - accuracy: 0.9861\n",
      "Epoch 21/50\n",
      "60000/60000 [==============================] - 6s 100us/step - loss: 0.0390 - accuracy: 0.9859\n",
      "Epoch 22/50\n",
      "60000/60000 [==============================] - 6s 100us/step - loss: 0.0394 - accuracy: 0.9858\n",
      "Epoch 23/50\n",
      "60000/60000 [==============================] - 6s 100us/step - loss: 0.0388 - accuracy: 0.9861\n",
      "Epoch 24/50\n",
      "60000/60000 [==============================] - 6s 100us/step - loss: 0.0401 - accuracy: 0.9853\n",
      "Epoch 25/50\n",
      "60000/60000 [==============================] - 6s 100us/step - loss: 0.0401 - accuracy: 0.9857\n",
      "Epoch 26/50\n",
      "60000/60000 [==============================] - 6s 100us/step - loss: 0.0400 - accuracy: 0.9859\n",
      "Epoch 27/50\n",
      "60000/60000 [==============================] - 6s 100us/step - loss: 0.0396 - accuracy: 0.9857\n",
      "Epoch 28/50\n",
      "60000/60000 [==============================] - 6s 99us/step - loss: 0.0405 - accuracy: 0.9859\n",
      "Epoch 29/50\n",
      "60000/60000 [==============================] - 6s 100us/step - loss: 0.0404 - accuracy: 0.9857\n",
      "Epoch 30/50\n",
      "60000/60000 [==============================] - 6s 101us/step - loss: 0.0397 - accuracy: 0.9859\n",
      "Epoch 31/50\n",
      "60000/60000 [==============================] - 6s 101us/step - loss: 0.0403 - accuracy: 0.9859\n",
      "Epoch 32/50\n",
      "60000/60000 [==============================] - 6s 101us/step - loss: 0.0396 - accuracy: 0.9859\n",
      "Epoch 33/50\n",
      "60000/60000 [==============================] - 6s 101us/step - loss: 0.0400 - accuracy: 0.9859\n",
      "Epoch 34/50\n",
      "60000/60000 [==============================] - 6s 100us/step - loss: 0.0400 - accuracy: 0.9861\n",
      "Epoch 35/50\n",
      "60000/60000 [==============================] - 6s 101us/step - loss: 0.0406 - accuracy: 0.9857\n",
      "Epoch 36/50\n",
      "60000/60000 [==============================] - 6s 101us/step - loss: 0.0408 - accuracy: 0.9860\n",
      "Epoch 37/50\n",
      "60000/60000 [==============================] - 6s 101us/step - loss: 0.0406 - accuracy: 0.9860\n",
      "Epoch 38/50\n",
      "60000/60000 [==============================] - 6s 101us/step - loss: 0.0405 - accuracy: 0.9859\n",
      "Epoch 39/50\n",
      "60000/60000 [==============================] - 6s 101us/step - loss: 0.0400 - accuracy: 0.9862\n",
      "Epoch 40/50\n",
      "60000/60000 [==============================] - 6s 101us/step - loss: 0.0403 - accuracy: 0.9862\n",
      "Epoch 41/50\n",
      "60000/60000 [==============================] - 6s 101us/step - loss: 0.0408 - accuracy: 0.9859\n",
      "Epoch 42/50\n",
      "60000/60000 [==============================] - 6s 101us/step - loss: 0.0397 - accuracy: 0.9864\n",
      "Epoch 43/50\n",
      "60000/60000 [==============================] - 6s 101us/step - loss: 0.0406 - accuracy: 0.9859\n",
      "Epoch 44/50\n",
      "60000/60000 [==============================] - 6s 101us/step - loss: 0.0409 - accuracy: 0.9859\n",
      "Epoch 45/50\n",
      "60000/60000 [==============================] - 6s 101us/step - loss: 0.0414 - accuracy: 0.9862\n",
      "Epoch 46/50\n",
      "60000/60000 [==============================] - 6s 101us/step - loss: 0.0405 - accuracy: 0.9864\n",
      "Epoch 47/50\n",
      "60000/60000 [==============================] - 6s 100us/step - loss: 0.0411 - accuracy: 0.9861\n",
      "Epoch 48/50\n",
      "60000/60000 [==============================] - 6s 100us/step - loss: 0.0413 - accuracy: 0.9859\n",
      "Epoch 49/50\n",
      "60000/60000 [==============================] - 6s 100us/step - loss: 0.0420 - accuracy: 0.9858\n",
      "Epoch 50/50\n",
      "60000/60000 [==============================] - 6s 101us/step - loss: 0.0408 - accuracy: 0.9862\n"
     ]
    },
    {
     "data": {
      "text/plain": [
       "<keras.callbacks.callbacks.History at 0x272c8862688>"
      ]
     },
     "execution_count": 43,
     "metadata": {},
     "output_type": "execute_result"
    }
   ],
   "source": [
    "model.fit(x_train,y_cat_train,epochs=50)"
   ]
  },
  {
   "cell_type": "code",
   "execution_count": 44,
   "metadata": {},
   "outputs": [],
   "source": [
    "model.save('fashion_minst.h5')"
   ]
  },
  {
   "cell_type": "code",
   "execution_count": 51,
   "metadata": {},
   "outputs": [],
   "source": [
    "predictions = model.predict_classes(x_test)"
   ]
  },
  {
   "cell_type": "code",
   "execution_count": 52,
   "metadata": {},
   "outputs": [
    {
     "name": "stdout",
     "output_type": "stream",
     "text": [
      "              precision    recall  f1-score   support\n",
      "\n",
      "           0       0.82      0.83      0.83      1000\n",
      "           1       0.98      0.97      0.98      1000\n",
      "           2       0.78      0.81      0.79      1000\n",
      "           3       0.90      0.88      0.89      1000\n",
      "           4       0.76      0.85      0.81      1000\n",
      "           5       0.97      0.96      0.97      1000\n",
      "           6       0.68      0.61      0.65      1000\n",
      "           7       0.96      0.89      0.93      1000\n",
      "           8       0.98      0.95      0.97      1000\n",
      "           9       0.90      0.98      0.94      1000\n",
      "\n",
      "    accuracy                           0.87     10000\n",
      "   macro avg       0.88      0.87      0.87     10000\n",
      "weighted avg       0.88      0.87      0.87     10000\n",
      "\n"
     ]
    }
   ],
   "source": [
    "print(classification_report(y_test, predictions))"
   ]
  },
  {
   "cell_type": "code",
   "execution_count": 3,
   "metadata": {},
   "outputs": [],
   "source": [
    "from keras.models import load_model\n",
    "model = load_model('fashion_minst.h5')"
   ]
  },
  {
   "cell_type": "code",
   "execution_count": 9,
   "metadata": {},
   "outputs": [
    {
     "name": "stdout",
     "output_type": "stream",
     "text": [
      "10000/10000 [==============================] - 1s 54us/step\n"
     ]
    },
    {
     "data": {
      "text/plain": [
       "[0.07707672036886215, 0.9754002094268799]"
      ]
     },
     "execution_count": 9,
     "metadata": {},
     "output_type": "execute_result"
    }
   ],
   "source": [
    "model.evaluate(x_test, y_cat_test)"
   ]
  },
  {
   "cell_type": "code",
   "execution_count": null,
   "metadata": {},
   "outputs": [],
   "source": []
  },
  {
   "cell_type": "code",
   "execution_count": 53,
   "metadata": {},
   "outputs": [
    {
     "data": {
      "text/plain": [
       "array([9, 2, 1, ..., 8, 1, 5], dtype=int64)"
      ]
     },
     "execution_count": 53,
     "metadata": {},
     "output_type": "execute_result"
    }
   ],
   "source": [
    "model.predict_classes(x_test)"
   ]
  },
  {
   "cell_type": "code",
   "execution_count": 64,
   "metadata": {},
   "outputs": [
    {
     "data": {
      "text/plain": [
       "(28, 28, 1)"
      ]
     },
     "execution_count": 64,
     "metadata": {},
     "output_type": "execute_result"
    }
   ],
   "source": [
    "x_test[5].shape"
   ]
  },
  {
   "cell_type": "code",
   "execution_count": 77,
   "metadata": {},
   "outputs": [
    {
     "data": {
      "text/plain": [
       "(1, 28, 28, 1)"
      ]
     },
     "execution_count": 77,
     "metadata": {},
     "output_type": "execute_result"
    }
   ],
   "source": [
    "import numpy as np\n",
    "test_file = np.expand_dims(x_test[9],axis=0)\n",
    "test_file.shape"
   ]
  },
  {
   "cell_type": "code",
   "execution_count": 78,
   "metadata": {},
   "outputs": [
    {
     "data": {
      "text/plain": [
       "array([7], dtype=int64)"
      ]
     },
     "execution_count": 78,
     "metadata": {},
     "output_type": "execute_result"
    }
   ],
   "source": [
    "model.predict_classes(test_file)"
   ]
  },
  {
   "cell_type": "code",
   "execution_count": 75,
   "metadata": {},
   "outputs": [
    {
     "data": {
      "text/plain": [
       "<matplotlib.image.AxesImage at 0x2748d8ce848>"
      ]
     },
     "execution_count": 75,
     "metadata": {},
     "output_type": "execute_result"
    },
    {
     "data": {
      "image/png": "[encoded data removed]",
      "text/plain": [
       "<Figure size 432x288 with 1 Axes>"
      ]
     },
     "metadata": {
      "needs_background": "light"
     },
     "output_type": "display_data"
    }
   ],
   "source": [
    "plt.imshow(x_test[9])"
   ]
  },
  {
   "cell_type": "code",
   "execution_count": null,
   "metadata": {},
   "outputs": [],
   "source": []
  },
  {
   "cell_type": "code",
   "execution_count": null,
   "metadata": {},
   "outputs": [],
   "source": []
  },
  {
   "cell_type": "code",
   "execution_count": null,
   "metadata": {},
   "outputs": [],
   "source": []
  },
  {
   "cell_type": "code",
   "execution_count": null,
   "metadata": {},
   "outputs": [],
   "source": []
  },
  {
   "cell_type": "code",
   "execution_count": null,
   "metadata": {},
   "outputs": [],
   "source": []
  }
 ],
 "metadata": {
  "kernelspec": {
   "display_name": "Python 3",
   "language": "python",
   "name": "python3"
  },
  "language_info": {
   "codemirror_mode": {
    "name": "ipython",
    "version": 3
   },
   "file_extension": ".py",
   "mimetype": "text/x-python",
   "name": "python",
   "nbconvert_exporter": "python",
   "pygments_lexer": "ipython3",
   "version": "3.7.9"
  }
 },
 "nbformat": 4,
 "nbformat_minor": 4
}
