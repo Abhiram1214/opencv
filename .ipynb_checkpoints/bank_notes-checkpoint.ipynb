{
 "cells": [
  {
   "cell_type": "code",
   "execution_count": 19,
   "metadata": {},
   "outputs": [],
   "source": [
    "import numpy as np\n",
    "from numpy import genfromtxt\n",
    "\n",
    "from keras.models import Sequential\n",
    "from keras.layers import Dense\n",
    "\n",
    "from sklearn.model_selection import train_test_split\n",
    "from sklearn.metrics import confusion_matrix, classification_report"
   ]
  },
  {
   "cell_type": "code",
   "execution_count": 4,
   "metadata": {},
   "outputs": [],
   "source": [
    "data = r'C:\\Users\\Abhiram Challapalli\\Documents\\DATA'\n",
    "bank = genfromtxt(data+'\\\\bank_note_data.txt', delimiter=',')"
   ]
  },
  {
   "cell_type": "code",
   "execution_count": 5,
   "metadata": {},
   "outputs": [
    {
     "data": {
      "text/plain": [
       "(array([[  3.6216 ,   8.6661 ,  -2.8073 ,  -0.44699,   0.     ],\n",
       "        [  4.5459 ,   8.1674 ,  -2.4586 ,  -1.4621 ,   0.     ],\n",
       "        [  3.866  ,  -2.6383 ,   1.9242 ,   0.10645,   0.     ],\n",
       "        ...,\n",
       "        [ -3.7503 , -13.4586 ,  17.5932 ,  -2.7771 ,   1.     ],\n",
       "        [ -3.5637 ,  -8.3827 ,  12.393  ,  -1.2823 ,   1.     ],\n",
       "        [ -2.5419 ,  -0.65804,   2.6842 ,   1.1952 ,   1.     ]]), (1372, 5))"
      ]
     },
     "execution_count": 5,
     "metadata": {},
     "output_type": "execute_result"
    }
   ],
   "source": [
    "bank,bank.shape"
   ]
  },
  {
   "cell_type": "code",
   "execution_count": 6,
   "metadata": {},
   "outputs": [],
   "source": [
    "labels = bank[:,4]\n",
    "features = bank[:,0:4]\n",
    "X = features\n",
    "y = labels"
   ]
  },
  {
   "cell_type": "code",
   "execution_count": 7,
   "metadata": {},
   "outputs": [],
   "source": [
    "X_train, X_test, y_train, y_test = train_test_split(X,y, test_size=0.2, random_state=42)"
   ]
  },
  {
   "cell_type": "code",
   "execution_count": 23,
   "metadata": {},
   "outputs": [
    {
     "data": {
      "text/plain": [
       "1097"
      ]
     },
     "execution_count": 23,
     "metadata": {},
     "output_type": "execute_result"
    }
   ],
   "source": [
    "len(X_train)"
   ]
  },
  {
   "cell_type": "code",
   "execution_count": 8,
   "metadata": {},
   "outputs": [],
   "source": [
    "from sklearn.preprocessing import MinMaxScaler\n",
    "scale = MinMaxScaler()\n",
    "scale.fit(X_train)\n",
    "scaled_x_train = scale.transform(X_train)\n",
    "scaled_x_test = scale.transform(X_test)\n",
    "\n",
    "# we don't fit to test data because the scaler will have a look at the test set. it's called data leakage"
   ]
  },
  {
   "cell_type": "code",
   "execution_count": 9,
   "metadata": {},
   "outputs": [
    {
     "data": {
      "text/plain": [
       "(0.0, 1.0000000000000002)"
      ]
     },
     "execution_count": 9,
     "metadata": {},
     "output_type": "execute_result"
    }
   ],
   "source": [
    "scaled_x_train.min(), scaled_x_train.max()"
   ]
  },
  {
   "cell_type": "code",
   "execution_count": null,
   "metadata": {},
   "outputs": [],
   "source": []
  },
  {
   "cell_type": "code",
   "execution_count": 10,
   "metadata": {},
   "outputs": [],
   "source": [
    "model = Sequential()\n",
    "\n",
    "model.add(Dense(4, input_dim=4, activation='relu'))\n",
    "model.add(Dense(8, activation='relu'))\n",
    "model.add(Dense(8, activation='relu'))\n",
    "\n",
    "model.add(Dense(1, activation='sigmoid'))"
   ]
  },
  {
   "cell_type": "code",
   "execution_count": 12,
   "metadata": {},
   "outputs": [],
   "source": [
    "model.compile(loss='binary_crossentropy', optimizer='adam', metrics=['accuracy'])"
   ]
  },
  {
   "cell_type": "code",
   "execution_count": 16,
   "metadata": {},
   "outputs": [
    {
     "name": "stdout",
     "output_type": "stream",
     "text": [
      "Epoch 1/99\n",
      " - 0s - loss: 0.0201 - accuracy: 0.9891\n",
      "Epoch 2/99\n",
      " - 0s - loss: 0.0190 - accuracy: 0.9909\n",
      "Epoch 3/99\n",
      " - 0s - loss: 0.0193 - accuracy: 0.9909\n",
      "Epoch 4/99\n",
      " - 0s - loss: 0.0199 - accuracy: 0.9909\n",
      "Epoch 5/99\n",
      " - 0s - loss: 0.0221 - accuracy: 0.9900\n",
      "Epoch 6/99\n",
      " - 0s - loss: 0.0216 - accuracy: 0.9909\n",
      "Epoch 7/99\n",
      " - 0s - loss: 0.0222 - accuracy: 0.9891\n",
      "Epoch 8/99\n",
      " - 0s - loss: 0.0208 - accuracy: 0.9918\n",
      "Epoch 9/99\n",
      " - 0s - loss: 0.0198 - accuracy: 0.9909\n",
      "Epoch 10/99\n",
      " - 0s - loss: 0.0193 - accuracy: 0.9881\n",
      "Epoch 11/99\n",
      " - 0s - loss: 0.0209 - accuracy: 0.9872\n",
      "Epoch 12/99\n",
      " - 0s - loss: 0.0195 - accuracy: 0.9909\n",
      "Epoch 13/99\n",
      " - 0s - loss: 0.0192 - accuracy: 0.9900\n",
      "Epoch 14/99\n",
      " - 0s - loss: 0.0173 - accuracy: 0.9954\n",
      "Epoch 15/99\n",
      " - 0s - loss: 0.0238 - accuracy: 0.9900\n",
      "Epoch 16/99\n",
      " - 0s - loss: 0.0202 - accuracy: 0.9909\n",
      "Epoch 17/99\n",
      " - 0s - loss: 0.0205 - accuracy: 0.9918\n",
      "Epoch 18/99\n",
      " - 0s - loss: 0.0195 - accuracy: 0.9927\n",
      "Epoch 19/99\n",
      " - 0s - loss: 0.0185 - accuracy: 0.9945\n",
      "Epoch 20/99\n",
      " - 0s - loss: 0.0199 - accuracy: 0.9909\n",
      "Epoch 21/99\n",
      " - 0s - loss: 0.0207 - accuracy: 0.9900\n",
      "Epoch 22/99\n",
      " - 0s - loss: 0.0195 - accuracy: 0.9900\n",
      "Epoch 23/99\n",
      " - 0s - loss: 0.0192 - accuracy: 0.9891\n",
      "Epoch 24/99\n",
      " - 0s - loss: 0.0188 - accuracy: 0.9891\n",
      "Epoch 25/99\n",
      " - 0s - loss: 0.0187 - accuracy: 0.9909\n",
      "Epoch 26/99\n",
      " - 0s - loss: 0.0211 - accuracy: 0.9900\n",
      "Epoch 27/99\n",
      " - 0s - loss: 0.0208 - accuracy: 0.9891\n",
      "Epoch 28/99\n",
      " - 0s - loss: 0.0197 - accuracy: 0.9872\n",
      "Epoch 29/99\n",
      " - 0s - loss: 0.0185 - accuracy: 0.9918\n",
      "Epoch 30/99\n",
      " - 0s - loss: 0.0195 - accuracy: 0.9909\n",
      "Epoch 31/99\n",
      " - 0s - loss: 0.0191 - accuracy: 0.9891\n",
      "Epoch 32/99\n",
      " - 0s - loss: 0.0215 - accuracy: 0.9900\n",
      "Epoch 33/99\n",
      " - 0s - loss: 0.0214 - accuracy: 0.9881\n",
      "Epoch 34/99\n",
      " - 0s - loss: 0.0218 - accuracy: 0.9881\n",
      "Epoch 35/99\n",
      " - 0s - loss: 0.0197 - accuracy: 0.9909\n",
      "Epoch 36/99\n",
      " - 0s - loss: 0.0186 - accuracy: 0.9909\n",
      "Epoch 37/99\n",
      " - 0s - loss: 0.0190 - accuracy: 0.9909\n",
      "Epoch 38/99\n",
      " - 0s - loss: 0.0185 - accuracy: 0.9918\n",
      "Epoch 39/99\n",
      " - 0s - loss: 0.0185 - accuracy: 0.9927\n",
      "Epoch 40/99\n",
      " - 0s - loss: 0.0204 - accuracy: 0.9891\n",
      "Epoch 41/99\n",
      " - 0s - loss: 0.0196 - accuracy: 0.9936\n",
      "Epoch 42/99\n",
      " - 0s - loss: 0.0201 - accuracy: 0.9900\n",
      "Epoch 43/99\n",
      " - 0s - loss: 0.0237 - accuracy: 0.9872\n",
      "Epoch 44/99\n",
      " - 0s - loss: 0.0181 - accuracy: 0.9900\n",
      "Epoch 45/99\n",
      " - 0s - loss: 0.0247 - accuracy: 0.9891\n",
      "Epoch 46/99\n",
      " - 0s - loss: 0.0212 - accuracy: 0.9891\n",
      "Epoch 47/99\n",
      " - 0s - loss: 0.0229 - accuracy: 0.9881\n",
      "Epoch 48/99\n",
      " - 0s - loss: 0.0185 - accuracy: 0.9891\n",
      "Epoch 49/99\n",
      " - 0s - loss: 0.0186 - accuracy: 0.9891\n",
      "Epoch 50/99\n",
      " - 0s - loss: 0.0212 - accuracy: 0.9900\n",
      "Epoch 51/99\n",
      " - 0s - loss: 0.0203 - accuracy: 0.9918\n",
      "Epoch 52/99\n",
      " - 0s - loss: 0.0193 - accuracy: 0.9909\n",
      "Epoch 53/99\n",
      " - 0s - loss: 0.0181 - accuracy: 0.9881\n",
      "Epoch 54/99\n",
      " - 0s - loss: 0.0200 - accuracy: 0.9900\n",
      "Epoch 55/99\n",
      " - 0s - loss: 0.0216 - accuracy: 0.9872\n",
      "Epoch 56/99\n",
      " - 0s - loss: 0.0199 - accuracy: 0.9881\n",
      "Epoch 57/99\n",
      " - 0s - loss: 0.0191 - accuracy: 0.9900\n",
      "Epoch 58/99\n",
      " - 0s - loss: 0.0179 - accuracy: 0.9900\n",
      "Epoch 59/99\n",
      " - 0s - loss: 0.0196 - accuracy: 0.9909\n",
      "Epoch 60/99\n",
      " - 0s - loss: 0.0201 - accuracy: 0.9918\n",
      "Epoch 61/99\n",
      " - 0s - loss: 0.0194 - accuracy: 0.9891\n",
      "Epoch 62/99\n",
      " - 0s - loss: 0.0181 - accuracy: 0.9918\n",
      "Epoch 63/99\n",
      " - 0s - loss: 0.0200 - accuracy: 0.9927\n",
      "Epoch 64/99\n",
      " - 0s - loss: 0.0210 - accuracy: 0.9909\n",
      "Epoch 65/99\n",
      " - 0s - loss: 0.0190 - accuracy: 0.9900\n",
      "Epoch 66/99\n",
      " - 0s - loss: 0.0196 - accuracy: 0.9891\n",
      "Epoch 67/99\n",
      " - 0s - loss: 0.0178 - accuracy: 0.9936\n",
      "Epoch 68/99\n",
      " - 0s - loss: 0.0192 - accuracy: 0.9909\n",
      "Epoch 69/99\n",
      " - 0s - loss: 0.0185 - accuracy: 0.9909\n",
      "Epoch 70/99\n",
      " - 0s - loss: 0.0187 - accuracy: 0.9881\n",
      "Epoch 71/99\n",
      " - 0s - loss: 0.0181 - accuracy: 0.9891\n",
      "Epoch 72/99\n",
      " - 0s - loss: 0.0190 - accuracy: 0.9909\n",
      "Epoch 73/99\n",
      " - 0s - loss: 0.0189 - accuracy: 0.9927\n",
      "Epoch 74/99\n",
      " - 0s - loss: 0.0191 - accuracy: 0.9909\n",
      "Epoch 75/99\n",
      " - 0s - loss: 0.0201 - accuracy: 0.9918\n",
      "Epoch 76/99\n",
      " - 0s - loss: 0.0178 - accuracy: 0.9927\n",
      "Epoch 77/99\n",
      " - 0s - loss: 0.0186 - accuracy: 0.9909\n",
      "Epoch 78/99\n",
      " - 0s - loss: 0.0200 - accuracy: 0.9909\n",
      "Epoch 79/99\n",
      " - 0s - loss: 0.0179 - accuracy: 0.9918\n",
      "Epoch 80/99\n",
      " - 0s - loss: 0.0184 - accuracy: 0.9900\n",
      "Epoch 81/99\n",
      " - 0s - loss: 0.0183 - accuracy: 0.9900\n",
      "Epoch 82/99\n",
      " - 0s - loss: 0.0184 - accuracy: 0.9918\n",
      "Epoch 83/99\n",
      " - 0s - loss: 0.0168 - accuracy: 0.9945\n",
      "Epoch 84/99\n",
      " - 0s - loss: 0.0214 - accuracy: 0.9891\n",
      "Epoch 85/99\n",
      " - 0s - loss: 0.0237 - accuracy: 0.9891\n",
      "Epoch 86/99\n",
      " - 0s - loss: 0.0193 - accuracy: 0.9909\n",
      "Epoch 87/99\n",
      " - 0s - loss: 0.0206 - accuracy: 0.9881\n",
      "Epoch 88/99\n",
      " - 0s - loss: 0.0200 - accuracy: 0.9918\n",
      "Epoch 89/99\n",
      " - 0s - loss: 0.0184 - accuracy: 0.9909\n",
      "Epoch 90/99\n",
      " - 0s - loss: 0.0187 - accuracy: 0.9927\n",
      "Epoch 91/99\n",
      " - 0s - loss: 0.0173 - accuracy: 0.9918\n",
      "Epoch 92/99\n",
      " - 0s - loss: 0.0211 - accuracy: 0.9891\n",
      "Epoch 93/99\n",
      " - 0s - loss: 0.0185 - accuracy: 0.9909\n",
      "Epoch 94/99\n",
      " - 0s - loss: 0.0188 - accuracy: 0.9891\n",
      "Epoch 95/99\n",
      " - 0s - loss: 0.0214 - accuracy: 0.9881\n",
      "Epoch 96/99\n",
      " - 0s - loss: 0.0239 - accuracy: 0.9909\n",
      "Epoch 97/99\n",
      " - 0s - loss: 0.0185 - accuracy: 0.9900\n",
      "Epoch 98/99\n",
      " - 0s - loss: 0.0186 - accuracy: 0.9909\n",
      "Epoch 99/99\n",
      " - 0s - loss: 0.0191 - accuracy: 0.9927\n"
     ]
    },
    {
     "data": {
      "text/plain": [
       "<keras.callbacks.callbacks.History at 0x23f2c2cb648>"
      ]
     },
     "execution_count": 16,
     "metadata": {},
     "output_type": "execute_result"
    }
   ],
   "source": [
    "model.fit(scaled_x_train, y_train, epochs=99, verbose=2)"
   ]
  },
  {
   "cell_type": "code",
   "execution_count": 17,
   "metadata": {},
   "outputs": [
    {
     "data": {
      "text/plain": [
       "array([[0],\n",
       "       [0],\n",
       "       [0],\n",
       "       [0],\n",
       "       [0],\n",
       "       [0],\n",
       "       [0],\n",
       "       [0],\n",
       "       [0],\n",
       "       [0],\n",
       "       [1],\n",
       "       [1],\n",
       "       [0],\n",
       "       [1],\n",
       "       [0],\n",
       "       [1],\n",
       "       [1],\n",
       "       [1],\n",
       "       [1],\n",
       "       [1],\n",
       "       [0],\n",
       "       [0],\n",
       "       [1],\n",
       "       [0],\n",
       "       [1],\n",
       "       [0],\n",
       "       [0],\n",
       "       [1],\n",
       "       [0],\n",
       "       [0],\n",
       "       [1],\n",
       "       [0],\n",
       "       [0],\n",
       "       [1],\n",
       "       [1],\n",
       "       [0],\n",
       "       [1],\n",
       "       [1],\n",
       "       [1],\n",
       "       [0],\n",
       "       [0],\n",
       "       [1],\n",
       "       [1],\n",
       "       [0],\n",
       "       [1],\n",
       "       [1],\n",
       "       [1],\n",
       "       [0],\n",
       "       [0],\n",
       "       [1],\n",
       "       [0],\n",
       "       [0],\n",
       "       [0],\n",
       "       [0],\n",
       "       [0],\n",
       "       [1],\n",
       "       [0],\n",
       "       [0],\n",
       "       [0],\n",
       "       [0],\n",
       "       [1],\n",
       "       [0],\n",
       "       [1],\n",
       "       [0],\n",
       "       [0],\n",
       "       [0],\n",
       "       [0],\n",
       "       [0],\n",
       "       [0],\n",
       "       [1],\n",
       "       [1],\n",
       "       [0],\n",
       "       [1],\n",
       "       [0],\n",
       "       [1],\n",
       "       [1],\n",
       "       [0],\n",
       "       [1],\n",
       "       [1],\n",
       "       [1],\n",
       "       [1],\n",
       "       [0],\n",
       "       [1],\n",
       "       [0],\n",
       "       [0],\n",
       "       [0],\n",
       "       [0],\n",
       "       [1],\n",
       "       [1],\n",
       "       [0],\n",
       "       [0],\n",
       "       [0],\n",
       "       [1],\n",
       "       [1],\n",
       "       [0],\n",
       "       [1],\n",
       "       [1],\n",
       "       [0],\n",
       "       [0],\n",
       "       [0],\n",
       "       [1],\n",
       "       [0],\n",
       "       [0],\n",
       "       [0],\n",
       "       [1],\n",
       "       [0],\n",
       "       [0],\n",
       "       [1],\n",
       "       [1],\n",
       "       [1],\n",
       "       [1],\n",
       "       [1],\n",
       "       [0],\n",
       "       [1],\n",
       "       [1],\n",
       "       [1],\n",
       "       [0],\n",
       "       [1],\n",
       "       [1],\n",
       "       [0],\n",
       "       [1],\n",
       "       [0],\n",
       "       [1],\n",
       "       [0],\n",
       "       [1],\n",
       "       [0],\n",
       "       [1],\n",
       "       [1],\n",
       "       [0],\n",
       "       [1],\n",
       "       [1],\n",
       "       [0],\n",
       "       [0],\n",
       "       [0],\n",
       "       [0],\n",
       "       [0],\n",
       "       [1],\n",
       "       [0],\n",
       "       [0],\n",
       "       [0],\n",
       "       [0],\n",
       "       [0],\n",
       "       [1],\n",
       "       [0],\n",
       "       [1],\n",
       "       [0],\n",
       "       [1],\n",
       "       [1],\n",
       "       [1],\n",
       "       [0],\n",
       "       [1],\n",
       "       [1],\n",
       "       [1],\n",
       "       [0],\n",
       "       [1],\n",
       "       [0],\n",
       "       [1],\n",
       "       [0],\n",
       "       [0],\n",
       "       [0],\n",
       "       [1],\n",
       "       [1],\n",
       "       [1],\n",
       "       [1],\n",
       "       [1],\n",
       "       [0],\n",
       "       [1],\n",
       "       [0],\n",
       "       [0],\n",
       "       [0],\n",
       "       [0],\n",
       "       [0],\n",
       "       [0],\n",
       "       [1],\n",
       "       [0],\n",
       "       [0],\n",
       "       [1],\n",
       "       [1],\n",
       "       [0],\n",
       "       [0],\n",
       "       [0],\n",
       "       [0],\n",
       "       [1],\n",
       "       [0],\n",
       "       [1],\n",
       "       [0],\n",
       "       [1],\n",
       "       [1],\n",
       "       [0],\n",
       "       [0],\n",
       "       [1],\n",
       "       [0],\n",
       "       [0],\n",
       "       [1],\n",
       "       [1],\n",
       "       [1],\n",
       "       [1],\n",
       "       [0],\n",
       "       [0],\n",
       "       [1],\n",
       "       [1],\n",
       "       [1],\n",
       "       [0],\n",
       "       [0],\n",
       "       [1],\n",
       "       [1],\n",
       "       [1],\n",
       "       [1],\n",
       "       [0],\n",
       "       [0],\n",
       "       [0],\n",
       "       [0],\n",
       "       [0],\n",
       "       [0],\n",
       "       [0],\n",
       "       [0],\n",
       "       [1],\n",
       "       [0],\n",
       "       [1],\n",
       "       [1],\n",
       "       [1],\n",
       "       [1],\n",
       "       [1],\n",
       "       [0],\n",
       "       [1],\n",
       "       [0],\n",
       "       [0],\n",
       "       [1],\n",
       "       [1],\n",
       "       [1],\n",
       "       [1],\n",
       "       [0],\n",
       "       [1],\n",
       "       [0],\n",
       "       [1],\n",
       "       [1],\n",
       "       [1],\n",
       "       [1],\n",
       "       [0],\n",
       "       [0],\n",
       "       [0],\n",
       "       [1],\n",
       "       [0],\n",
       "       [1],\n",
       "       [1],\n",
       "       [1],\n",
       "       [0],\n",
       "       [0],\n",
       "       [0],\n",
       "       [0],\n",
       "       [0],\n",
       "       [0],\n",
       "       [1],\n",
       "       [0],\n",
       "       [0],\n",
       "       [0],\n",
       "       [0],\n",
       "       [0],\n",
       "       [1],\n",
       "       [1],\n",
       "       [0],\n",
       "       [0],\n",
       "       [0],\n",
       "       [1],\n",
       "       [1],\n",
       "       [0],\n",
       "       [1],\n",
       "       [0],\n",
       "       [1],\n",
       "       [1],\n",
       "       [1],\n",
       "       [1],\n",
       "       [0],\n",
       "       [0],\n",
       "       [0]])"
      ]
     },
     "execution_count": 17,
     "metadata": {},
     "output_type": "execute_result"
    }
   ],
   "source": [
    "model.predict_classes(scaled_x_test)"
   ]
  },
  {
   "cell_type": "code",
   "execution_count": 18,
   "metadata": {},
   "outputs": [
    {
     "data": {
      "text/plain": [
       "['loss', 'accuracy']"
      ]
     },
     "execution_count": 18,
     "metadata": {},
     "output_type": "execute_result"
    }
   ],
   "source": [
    "model.metrics_names"
   ]
  },
  {
   "cell_type": "code",
   "execution_count": 20,
   "metadata": {},
   "outputs": [],
   "source": [
    "from sklearn.metrics import confusion_matrix, classification_report"
   ]
  },
  {
   "cell_type": "code",
   "execution_count": 21,
   "metadata": {},
   "outputs": [],
   "source": [
    "predictions = model.predict_classes(scaled_x_test)"
   ]
  },
  {
   "cell_type": "code",
   "execution_count": 22,
   "metadata": {},
   "outputs": [
    {
     "data": {
      "text/plain": [
       "array([[146,   2],\n",
       "       [  2, 125]], dtype=int64)"
      ]
     },
     "execution_count": 22,
     "metadata": {},
     "output_type": "execute_result"
    }
   ],
   "source": [
    "confusion_matrix(y_test, predictions)"
   ]
  },
  {
   "cell_type": "code",
   "execution_count": 23,
   "metadata": {},
   "outputs": [
    {
     "name": "stdout",
     "output_type": "stream",
     "text": [
      "              precision    recall  f1-score   support\n",
      "\n",
      "         0.0       0.99      0.99      0.99       148\n",
      "         1.0       0.98      0.98      0.98       127\n",
      "\n",
      "    accuracy                           0.99       275\n",
      "   macro avg       0.99      0.99      0.99       275\n",
      "weighted avg       0.99      0.99      0.99       275\n",
      "\n"
     ]
    }
   ],
   "source": [
    "print(classification_report(y_test, predictions))"
   ]
  },
  {
   "cell_type": "code",
   "execution_count": 35,
   "metadata": {},
   "outputs": [],
   "source": [
    "z = []\n",
    "for i in y_test:\n",
    "    if i == 0:\n",
    "        z.append(i)"
   ]
  },
  {
   "cell_type": "code",
   "execution_count": 36,
   "metadata": {},
   "outputs": [
    {
     "data": {
      "text/plain": [
       "148"
      ]
     },
     "execution_count": 36,
     "metadata": {},
     "output_type": "execute_result"
    }
   ],
   "source": [
    "len(z)"
   ]
  },
  {
   "cell_type": "code",
   "execution_count": 34,
   "metadata": {},
   "outputs": [
    {
     "data": {
      "text/plain": [
       "275"
      ]
     },
     "execution_count": 34,
     "metadata": {},
     "output_type": "execute_result"
    }
   ],
   "source": [
    "len(y_test)"
   ]
  },
  {
   "cell_type": "code",
   "execution_count": 37,
   "metadata": {},
   "outputs": [],
   "source": [
    "model.save('bank.h5')"
   ]
  },
  {
   "cell_type": "code",
   "execution_count": null,
   "metadata": {},
   "outputs": [],
   "source": [
    "from keras.models import load_model\n",
    "new = load_model('bank.h5')"
   ]
  },
  {
   "cell_type": "code",
   "execution_count": null,
   "metadata": {},
   "outputs": [],
   "source": []
  },
  {
   "cell_type": "code",
   "execution_count": null,
   "metadata": {},
   "outputs": [],
   "source": []
  },
  {
   "cell_type": "code",
   "execution_count": null,
   "metadata": {},
   "outputs": [],
   "source": []
  },
  {
   "cell_type": "code",
   "execution_count": null,
   "metadata": {},
   "outputs": [],
   "source": []
  },
  {
   "cell_type": "code",
   "execution_count": null,
   "metadata": {},
   "outputs": [],
   "source": []
  },
  {
   "cell_type": "code",
   "execution_count": null,
   "metadata": {},
   "outputs": [],
   "source": []
  },
  {
   "cell_type": "code",
   "execution_count": null,
   "metadata": {},
   "outputs": [],
   "source": []
  },
  {
   "cell_type": "code",
   "execution_count": null,
   "metadata": {},
   "outputs": [],
   "source": []
  },
  {
   "cell_type": "code",
   "execution_count": null,
   "metadata": {},
   "outputs": [],
   "source": []
  },
  {
   "cell_type": "code",
   "execution_count": null,
   "metadata": {},
   "outputs": [],
   "source": []
  },
  {
   "cell_type": "code",
   "execution_count": null,
   "metadata": {},
   "outputs": [],
   "source": []
  }
 ],
 "metadata": {
  "kernelspec": {
   "display_name": "Python 3",
   "language": "python",
   "name": "python3"
  },
  "language_info": {
   "codemirror_mode": {
    "name": "ipython",
    "version": 3
   },
   "file_extension": ".py",
   "mimetype": "text/x-python",
   "name": "python",
   "nbconvert_exporter": "python",
   "pygments_lexer": "ipython3",
   "version": "3.7.9"
  }
 },
 "nbformat": 4,
 "nbformat_minor": 4
}
